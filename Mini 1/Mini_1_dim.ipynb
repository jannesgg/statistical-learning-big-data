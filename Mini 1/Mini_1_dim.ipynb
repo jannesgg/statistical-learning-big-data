{
 "cells": [
  {
   "cell_type": "code",
   "execution_count": 1,
   "metadata": {},
   "outputs": [],
   "source": [
    "import hdbscan\n",
    "import debacl\n",
    "import fastcluster\n",
    "import sklearn.cluster\n",
    "import scipy.cluster\n",
    "from sklearn.manifold import TSNE"
   ]
  },
  {
   "cell_type": "code",
   "execution_count": 2,
   "metadata": {
    "collapsed": true
   },
   "outputs": [],
   "source": [
    "import sklearn.datasets\n",
    "import numpy as np\n",
    "import pandas as pd\n",
    "import time\n",
    "import matplotlib.pyplot as plt\n",
    "import seaborn as sns\n",
    "%matplotlib inline\n",
    "sns.set_context('poster')\n",
    "sns.set_palette('Paired', 10)\n",
    "sns.set_color_codes()"
   ]
  },
  {
   "cell_type": "code",
   "execution_count": 3,
   "metadata": {
    "collapsed": true
   },
   "outputs": [],
   "source": [
    "def benchmark_algorithm(dataset, dataset_sizes, cluster_function, function_args, function_kwds):\n",
    "\n",
    "    # Initialize the result with NaNs so that any unfilled entries\n",
    "    # will be considered NULL when we convert to a pandas dataframe at the end\n",
    "    result = np.nan * np.ones((len(dataset_sizes)))\n",
    "    labels = {}\n",
    "    for index, size in enumerate(dataset_sizes):\n",
    "            \n",
    "            data = dataset[index]\n",
    "            # Start the clustering with a timer\n",
    "            start_time = time.time()\n",
    "            k = cluster_function(data, *function_args, **function_kwds)\n",
    "            time_taken = time.time() - start_time\n",
    "            \n",
    "\n",
    "            result[index] = time_taken\n",
    "            try:\n",
    "                labels[index] = k.labels_\n",
    "            except:\n",
    "                labels[index] = k\n",
    "                \n",
    "    # Return the result as a dataframe for easier handling with seaborn afterwards\n",
    "    return result, labels"
   ]
  },
  {
   "cell_type": "code",
   "execution_count": 4,
   "metadata": {},
   "outputs": [
    {
     "name": "stderr",
     "output_type": "stream",
     "text": [
      "INFO (2018-04-11 10:51:55): 'pattern' package not found; tag filters are not available for English\n"
     ]
    }
   ],
   "source": [
    "import gensim"
   ]
  },
  {
   "cell_type": "code",
   "execution_count": 5,
   "metadata": {
    "collapsed": true
   },
   "outputs": [],
   "source": [
    "text_file_name = 'wikipedia.txt'"
   ]
  },
  {
   "cell_type": "code",
   "execution_count": 6,
   "metadata": {
    "collapsed": true
   },
   "outputs": [],
   "source": [
    "def create_word_vec(models, nork='n'):\n",
    "    word_vecs = [model.wv for model in models]\n",
    "    if nork=='n':\n",
    "        data_sizes = [len(word_vect.vocab) for word_vect in word_vecs]\n",
    "    else:\n",
    "        data_sizes = [len(word_vect.syn0[0]) for word_vect in word_vecs]\n",
    "    w2v = [dict(zip(word_vect.index2word,word_vect.syn0)) for \n",
    "           word_vect in word_vecs]\n",
    "    return data_sizes, w2v"
   ]
  }
 ],
 "metadata": {
  "kernelspec": {
   "display_name": "Python 3",
   "language": "python",
   "name": "python3"
  },
  "language_info": {
   "codemirror_mode": {
    "name": "ipython",
    "version": 3
   },
   "file_extension": ".py",
   "mimetype": "text/x-python",
   "name": "python",
   "nbconvert_exporter": "python",
   "pygments_lexer": "ipython3",
   "version": "3.6.3"
  }
 },
 "nbformat": 4,
 "nbformat_minor": 2
}
