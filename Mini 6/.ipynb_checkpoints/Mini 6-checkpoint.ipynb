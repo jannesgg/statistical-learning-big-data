{
 "cells": [
  {
   "cell_type": "code",
   "execution_count": 17,
   "metadata": {},
   "outputs": [],
   "source": [
    "import pandas as pd\n",
    "import matplotlib.pyplot as plt\n",
    "%matplotlib inline"
   ]
  },
  {
   "cell_type": "code",
   "execution_count": 6,
   "metadata": {},
   "outputs": [],
   "source": [
    "df = pd.read_csv('./data/car.data', header=None)"
   ]
  },
  {
   "cell_type": "code",
   "execution_count": 7,
   "metadata": {},
   "outputs": [
    {
     "data": {
      "text/html": [
       "<div>\n",
       "<style>\n",
       "    .dataframe thead tr:only-child th {\n",
       "        text-align: right;\n",
       "    }\n",
       "\n",
       "    .dataframe thead th {\n",
       "        text-align: left;\n",
       "    }\n",
       "\n",
       "    .dataframe tbody tr th {\n",
       "        vertical-align: top;\n",
       "    }\n",
       "</style>\n",
       "<table border=\"1\" class=\"dataframe\">\n",
       "  <thead>\n",
       "    <tr style=\"text-align: right;\">\n",
       "      <th></th>\n",
       "      <th>0</th>\n",
       "      <th>1</th>\n",
       "      <th>2</th>\n",
       "      <th>3</th>\n",
       "      <th>4</th>\n",
       "      <th>5</th>\n",
       "      <th>6</th>\n",
       "    </tr>\n",
       "  </thead>\n",
       "  <tbody>\n",
       "    <tr>\n",
       "      <th>0</th>\n",
       "      <td>vhigh</td>\n",
       "      <td>vhigh</td>\n",
       "      <td>2</td>\n",
       "      <td>2</td>\n",
       "      <td>small</td>\n",
       "      <td>low</td>\n",
       "      <td>unacc</td>\n",
       "    </tr>\n",
       "    <tr>\n",
       "      <th>1</th>\n",
       "      <td>vhigh</td>\n",
       "      <td>vhigh</td>\n",
       "      <td>2</td>\n",
       "      <td>2</td>\n",
       "      <td>small</td>\n",
       "      <td>med</td>\n",
       "      <td>unacc</td>\n",
       "    </tr>\n",
       "    <tr>\n",
       "      <th>2</th>\n",
       "      <td>vhigh</td>\n",
       "      <td>vhigh</td>\n",
       "      <td>2</td>\n",
       "      <td>2</td>\n",
       "      <td>small</td>\n",
       "      <td>high</td>\n",
       "      <td>unacc</td>\n",
       "    </tr>\n",
       "    <tr>\n",
       "      <th>3</th>\n",
       "      <td>vhigh</td>\n",
       "      <td>vhigh</td>\n",
       "      <td>2</td>\n",
       "      <td>2</td>\n",
       "      <td>med</td>\n",
       "      <td>low</td>\n",
       "      <td>unacc</td>\n",
       "    </tr>\n",
       "    <tr>\n",
       "      <th>4</th>\n",
       "      <td>vhigh</td>\n",
       "      <td>vhigh</td>\n",
       "      <td>2</td>\n",
       "      <td>2</td>\n",
       "      <td>med</td>\n",
       "      <td>med</td>\n",
       "      <td>unacc</td>\n",
       "    </tr>\n",
       "  </tbody>\n",
       "</table>\n",
       "</div>"
      ],
      "text/plain": [
       "       0      1  2  3      4     5      6\n",
       "0  vhigh  vhigh  2  2  small   low  unacc\n",
       "1  vhigh  vhigh  2  2  small   med  unacc\n",
       "2  vhigh  vhigh  2  2  small  high  unacc\n",
       "3  vhigh  vhigh  2  2    med   low  unacc\n",
       "4  vhigh  vhigh  2  2    med   med  unacc"
      ]
     },
     "execution_count": 7,
     "metadata": {},
     "output_type": "execute_result"
    }
   ],
   "source": [
    "df.head()"
   ]
  },
  {
   "cell_type": "code",
   "execution_count": 8,
   "metadata": {},
   "outputs": [],
   "source": [
    "df.columns = ['buying','maint','doors','persons','lug_boot','safety','label']"
   ]
  },
  {
   "cell_type": "code",
   "execution_count": 186,
   "metadata": {},
   "outputs": [],
   "source": [
    "df.to_csv('new_data.csv')"
   ]
  },
  {
   "cell_type": "code",
   "execution_count": 12,
   "metadata": {},
   "outputs": [],
   "source": [
    "X = df.iloc[:,:-1]"
   ]
  },
  {
   "cell_type": "code",
   "execution_count": 13,
   "metadata": {},
   "outputs": [],
   "source": [
    "y = df.iloc[:,-1]"
   ]
  },
  {
   "cell_type": "code",
   "execution_count": 71,
   "metadata": {},
   "outputs": [],
   "source": [
    "from sklearn.ensemble import RandomForestClassifier, ExtraTreesClassifier\n",
    "from sklearn.cross_validation import cross_val_score\n",
    "from sklearn.pipeline import make_pipeline\n",
    "from sklearn.preprocessing import OneHotEncoder\n",
    "from time import time"
   ]
  },
  {
   "cell_type": "code",
   "execution_count": 30,
   "metadata": {},
   "outputs": [],
   "source": [
    "X_transform = pd.get_dummies(X)"
   ]
  },
  {
   "cell_type": "code",
   "execution_count": 72,
   "metadata": {},
   "outputs": [
    {
     "name": "stdout",
     "output_type": "stream",
     "text": [
      "0.07360601425170898\n"
     ]
    }
   ],
   "source": [
    "s = time()\n",
    "rf = RandomForestClassifier(random_state=777,min_samples_split=10,class_weight={'unacc':0.70023,'acc':0.22222,'good':0.03993,'vgood':0.03762})\n",
    "scores = cross_val_score(rf, X_transform, y)\n",
    "e = time()\n",
    "print(e-s)"
   ]
  },
  {
   "cell_type": "code",
   "execution_count": 73,
   "metadata": {},
   "outputs": [
    {
     "data": {
      "text/plain": [
       "0.7615756020506982"
      ]
     },
     "execution_count": 73,
     "metadata": {},
     "output_type": "execute_result"
    }
   ],
   "source": [
    "scores.mean()"
   ]
  },
  {
   "cell_type": "code",
   "execution_count": 74,
   "metadata": {},
   "outputs": [
    {
     "name": "stdout",
     "output_type": "stream",
     "text": [
      "0.07092571258544922\n"
     ]
    }
   ],
   "source": [
    "s = time()\n",
    "et = ExtraTreesClassifier(random_state=777,min_samples_split=10,class_weight={'unacc':0.70023,'acc':0.22222,'good':0.03993,'vgood':0.03762})\n",
    "scores = cross_val_score(et, X_transform, y)\n",
    "e = time()\n",
    "print(e-s)"
   ]
  },
  {
   "cell_type": "code",
   "execution_count": 68,
   "metadata": {},
   "outputs": [
    {
     "data": {
      "text/plain": [
       "0.7627309861100645"
      ]
     },
     "execution_count": 68,
     "metadata": {},
     "output_type": "execute_result"
    }
   ],
   "source": [
    "scores.mean()"
   ]
  },
  {
   "cell_type": "code",
   "execution_count": 83,
   "metadata": {},
   "outputs": [],
   "source": [
    "from sklearn.datasets import make_blobs, make_classification"
   ]
  },
  {
   "cell_type": "code",
   "execution_count": 193,
   "metadata": {},
   "outputs": [],
   "source": [
    "X, y = make_classification(n_samples=100000, n_features=10, n_redundant=2, n_informative=2, n_classes=2, n_clusters_per_class=2, shuffle=False)"
   ]
  },
  {
   "cell_type": "code",
   "execution_count": 190,
   "metadata": {},
   "outputs": [],
   "source": [
    "import numpy as np"
   ]
  },
  {
   "cell_type": "code",
   "execution_count": 194,
   "metadata": {},
   "outputs": [],
   "source": [
    "pd.DataFrame(np.column_stack([X,y])).to_csv('test.csv')"
   ]
  },
  {
   "cell_type": "code",
   "execution_count": 86,
   "metadata": {},
   "outputs": [
    {
     "name": "stdout",
     "output_type": "stream",
     "text": [
      "9.144982814788818\n"
     ]
    }
   ],
   "source": [
    "s = time()\n",
    "rf = RandomForestClassifier(random_state=777,min_samples_split=10)\n",
    "scores = cross_val_score(rf, X, y)\n",
    "e = time()\n",
    "print(e-s)"
   ]
  },
  {
   "cell_type": "code",
   "execution_count": 93,
   "metadata": {},
   "outputs": [
    {
     "data": {
      "image/png": "[encoded data removed]",
      "text/plain": [
       "<matplotlib.figure.Figure at 0x10cb62518>"
      ]
     },
     "metadata": {},
     "output_type": "display_data"
    }
   ],
   "source": [
    "rf.fit(X, y)\n",
    "importances = rf.feature_importances_\n",
    "std = np.std([tree.feature_importances_ for tree in rf.estimators_],\n",
    "             axis=0)\n",
    "indices = np.argsort(importances)[::-1]\n",
    "\n",
    "# Plot the feature importances of the forest\n",
    "plt.figure()\n",
    "plt.title(\"Feature importances\")\n",
    "plt.bar(range(X.shape[1]), importances[indices],\n",
    "       color=\"r\", yerr=std[indices], align=\"center\")\n",
    "plt.xticks(range(X.shape[1]), indices)\n",
    "plt.xlim([-1, X.shape[1]])\n",
    "plt.show()"
   ]
  },
  {
   "cell_type": "code",
   "execution_count": 87,
   "metadata": {},
   "outputs": [
    {
     "data": {
      "text/plain": [
       "0.969459993093961"
      ]
     },
     "execution_count": 87,
     "metadata": {},
     "output_type": "execute_result"
    }
   ],
   "source": [
    "scores.mean()"
   ]
  },
  {
   "cell_type": "code",
   "execution_count": 88,
   "metadata": {},
   "outputs": [
    {
     "name": "stdout",
     "output_type": "stream",
     "text": [
      "1.8676388263702393\n"
     ]
    }
   ],
   "source": [
    "s = time()\n",
    "et = ExtraTreesClassifier(random_state=777,min_samples_split=10)\n",
    "scores = cross_val_score(et, X, y)\n",
    "e = time()\n",
    "print(e-s)"
   ]
  },
  {
   "cell_type": "code",
   "execution_count": 89,
   "metadata": {},
   "outputs": [
    {
     "data": {
      "text/plain": [
       "0.9704600057940341"
      ]
     },
     "execution_count": 89,
     "metadata": {},
     "output_type": "execute_result"
    }
   ],
   "source": [
    "scores.mean()"
   ]
  },
  {
   "cell_type": "code",
   "execution_count": 109,
   "metadata": {},
   "outputs": [],
   "source": [
    "from sklearn.metrics import cohen_kappa_score"
   ]
  },
  {
   "cell_type": "code",
   "execution_count": 159,
   "metadata": {},
   "outputs": [
    {
     "name": "stdout",
     "output_type": "stream",
     "text": [
      "1.403228998184204\n"
     ]
    }
   ],
   "source": [
    "s = time()\n",
    "onrf = ExtraTreesClassifier(n_estimators=1, random_state=777,min_samples_split=10, warm_start=True)\n",
    "indices = np.array([[i, i+100] for i in range(0,len(X)-101,100)])\n",
    "count = 0\n",
    "for i in indices:\n",
    "    current_acc = 0\n",
    "    count += 1 \n",
    "    X_batch = X[i[0]:i[1]]\n",
    "    y_batch = y[i[0]:i[1]]\n",
    "    if count == 1:\n",
    "        onrf.fit(X_batch, y_batch)\n",
    "    else:\n",
    "        count += 1\n",
    "        onrf.n_estimators += 1\n",
    "        onrf.fit(X_batch, y_batch)\n",
    "\n",
    "e = time()\n",
    "print(e-s)"
   ]
  },
  {
   "cell_type": "code",
   "execution_count": 180,
   "metadata": {},
   "outputs": [],
   "source": [
    "import sys\n",
    "sys.path.insert(0,'/Users/jannes/GU Modules/Statistical Learning for Big Data/code/Mini 6/StreamingXTREE/src')"
   ]
  },
  {
   "cell_type": "code",
   "execution_count": 182,
   "metadata": {},
   "outputs": [],
   "source": [
    "from StreamingXTREE.src import hoeffdingtree"
   ]
  },
  {
   "cell_type": "code",
   "execution_count": 184,
   "metadata": {},
   "outputs": [],
   "source": [
    "vfdt = hoeffdingtree.HoeffdingTree()\n",
    "vfdt.set_grace_period(50)\n",
    "vfdt.set_hoeffding_tie_threshold(0.05)\n",
    "vfdt.set_split_confidence(0.0001)"
   ]
  },
  {
   "cell_type": "code",
   "execution_count": 185,
   "metadata": {},
   "outputs": [],
   "source": [
    "vfdt.set_minimum_fraction_of_weight_info_gain(0.01)"
   ]
  },
  {
   "cell_type": "code",
   "execution_count": 197,
   "metadata": {},
   "outputs": [],
   "source": [
    "import csv\n",
    "from hoeffdingtree import *"
   ]
  },
  {
   "cell_type": "code",
   "execution_count": 198,
   "metadata": {},
   "outputs": [],
   "source": [
    "def open_dataset(filename, class_index, probe_instances=100):\n",
    "    \"\"\" Open and initialize a dataset in CSV format.\n",
    "    The CSV file needs to have a header row, from where the attribute names will be read, and a set\n",
    "    of instances containing at least one example of each value of all nominal attributes.\n",
    "    Args:\n",
    "        filename (str): The name of the dataset file (including filepath).\n",
    "        class_index (int): The index of the attribute to be set as class.\n",
    "        probe_instances (int): The number of instances to be used to initialize the nominal \n",
    "            attributes. (default 100)\n",
    "    Returns:\n",
    "        Dataset: A dataset initialized with the attributes and instances of the given CSV file.\n",
    "    \"\"\"\n",
    "    if not filename.endswith('.csv'):\n",
    "        raise TypeError(\n",
    "            'Unable to open \\'{0}\\'. Only datasets in CSV format are supported.'\n",
    "                .format(filename))\n",
    "    with open(filename) as f:\n",
    "        fr = csv.reader(f)\n",
    "        headers = next(fr)\n",
    "\n",
    "        att_values = [[] for i in range(len(headers))]\n",
    "        instances = []\n",
    "        try:\n",
    "            for i in range(probe_instances):\n",
    "                inst = next(fr)\n",
    "                instances.append(inst)\n",
    "                for j in range(len(headers)):\n",
    "                    try:\n",
    "                        inst[j] = float(inst[j])\n",
    "                        att_values[j] = None\n",
    "                    except ValueError:\n",
    "                        inst[j] = str(inst[j])\n",
    "                    if isinstance(inst[j], str):\n",
    "                        if att_values[j] is not None:\n",
    "                            if inst[j] not in att_values[j]:\n",
    "                                att_values[j].append(inst[j])\n",
    "                        else:\n",
    "                            raise ValueError(\n",
    "                                'Attribute {0} has both Numeric and Nominal values.'\n",
    "                                    .format(headers[j]))\n",
    "        # Tried to probe more instances than there are in the dataset file\n",
    "        except StopIteration:\n",
    "            pass\n",
    "\n",
    "    attributes = []\n",
    "    for i in range(len(headers)):\n",
    "        if att_values[i] is None:\n",
    "            attributes.append(Attribute(str(headers[i]), att_type='Numeric'))\n",
    "        else:\n",
    "            attributes.append(Attribute(str(headers[i]), att_values[i], 'Nominal'))\n",
    "\n",
    "    dataset = Dataset(attributes, class_index)\n",
    "    for inst in instances:\n",
    "        for i in range(len(headers)):\n",
    "            if attributes[i].type() == 'Nominal':\n",
    "                inst[i] = int(attributes[i].index_of_value(str(inst[i])))\n",
    "        dataset.add(Instance(att_values=inst))\n",
    "\n",
    "    return dataset"
   ]
  },
  {
   "cell_type": "code",
   "execution_count": 199,
   "metadata": {},
   "outputs": [],
   "source": [
    "dataset = open_dataset('test.csv', 10, 1000)"
   ]
  },
  {
   "cell_type": "code",
   "execution_count": 200,
   "metadata": {},
   "outputs": [],
   "source": [
    "vfdt.build_classifier(dataset)"
   ]
  },
  {
   "cell_type": "code",
   "execution_count": 201,
   "metadata": {},
   "outputs": [
    {
     "name": "stdout",
     "output_type": "stream",
     "text": [
      " (101001.0)\n"
     ]
    }
   ],
   "source": [
    "with open('test.csv') as f:\n",
    "    stream = csv.reader(f)\n",
    "    # Ignore the CSV headers\n",
    "    next(stream)\n",
    "    for item in stream:\n",
    "        inst_values = list(item)\n",
    "        for i in range(len(inst_values)):\n",
    "            if dataset.attribute(index=i).type() == 'Nominal':\n",
    "                inst_values[i] = int(dataset.attribute(index=i)\n",
    "                                     .index_of_value(str(inst_values[i])))\n",
    "            else:\n",
    "                inst_values[i] = float(inst_values[i])\n",
    "        new_instance = Instance(att_values=inst_values)\n",
    "        new_instance.set_dataset(dataset)\n",
    "        vfdt.update_classifier(new_instance)\n",
    "print(vfdt)"
   ]
  },
  {
   "cell_type": "code",
   "execution_count": 212,
   "metadata": {},
   "outputs": [
    {
     "data": {
      "text/plain": [
       "[]"
      ]
     },
     "execution_count": 212,
     "metadata": {},
     "output_type": "execute_result"
    }
   ],
   "source": [
    "vfdt.distribution_for_instance(new_instance)"
   ]
  },
  {
   "cell_type": "code",
   "execution_count": null,
   "metadata": {},
   "outputs": [],
   "source": []
  }
 ],
 "metadata": {
  "kernelspec": {
   "display_name": "Python 3",
   "language": "python",
   "name": "python3"
  },
  "language_info": {
   "codemirror_mode": {
    "name": "ipython",
    "version": 3
   },
   "file_extension": ".py",
   "mimetype": "text/x-python",
   "name": "python",
   "nbconvert_exporter": "python",
   "pygments_lexer": "ipython3",
   "version": "3.6.3"
  }
 },
 "nbformat": 4,
 "nbformat_minor": 2
}
