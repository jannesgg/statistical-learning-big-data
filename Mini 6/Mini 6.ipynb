{
 "cells": [
  {
   "cell_type": "code",
   "execution_count": 355,
   "metadata": {},
   "outputs": [],
   "source": [
    "import pandas as pd\n",
    "import matplotlib.pyplot as plt\n",
    "%matplotlib inline"
   ]
  },
  {
   "cell_type": "code",
   "execution_count": 356,
   "metadata": {},
   "outputs": [],
   "source": [
    "df = pd.read_csv('./data/car.data', header=None)"
   ]
  },
  {
   "cell_type": "code",
   "execution_count": 357,
   "metadata": {},
   "outputs": [
    {
     "data": {
      "text/html": [
       "<div>\n",
       "<style>\n",
       "    .dataframe thead tr:only-child th {\n",
       "        text-align: right;\n",
       "    }\n",
       "\n",
       "    .dataframe thead th {\n",
       "        text-align: left;\n",
       "    }\n",
       "\n",
       "    .dataframe tbody tr th {\n",
       "        vertical-align: top;\n",
       "    }\n",
       "</style>\n",
       "<table border=\"1\" class=\"dataframe\">\n",
       "  <thead>\n",
       "    <tr style=\"text-align: right;\">\n",
       "      <th></th>\n",
       "      <th>0</th>\n",
       "      <th>1</th>\n",
       "      <th>2</th>\n",
       "      <th>3</th>\n",
       "      <th>4</th>\n",
       "      <th>5</th>\n",
       "      <th>6</th>\n",
       "    </tr>\n",
       "  </thead>\n",
       "  <tbody>\n",
       "    <tr>\n",
       "      <th>0</th>\n",
       "      <td>vhigh</td>\n",
       "      <td>vhigh</td>\n",
       "      <td>2</td>\n",
       "      <td>2</td>\n",
       "      <td>small</td>\n",
       "      <td>low</td>\n",
       "      <td>unacc</td>\n",
       "    </tr>\n",
       "    <tr>\n",
       "      <th>1</th>\n",
       "      <td>vhigh</td>\n",
       "      <td>vhigh</td>\n",
       "      <td>2</td>\n",
       "      <td>2</td>\n",
       "      <td>small</td>\n",
       "      <td>med</td>\n",
       "      <td>unacc</td>\n",
       "    </tr>\n",
       "    <tr>\n",
       "      <th>2</th>\n",
       "      <td>vhigh</td>\n",
       "      <td>vhigh</td>\n",
       "      <td>2</td>\n",
       "      <td>2</td>\n",
       "      <td>small</td>\n",
       "      <td>high</td>\n",
       "      <td>unacc</td>\n",
       "    </tr>\n",
       "    <tr>\n",
       "      <th>3</th>\n",
       "      <td>vhigh</td>\n",
       "      <td>vhigh</td>\n",
       "      <td>2</td>\n",
       "      <td>2</td>\n",
       "      <td>med</td>\n",
       "      <td>low</td>\n",
       "      <td>unacc</td>\n",
       "    </tr>\n",
       "    <tr>\n",
       "      <th>4</th>\n",
       "      <td>vhigh</td>\n",
       "      <td>vhigh</td>\n",
       "      <td>2</td>\n",
       "      <td>2</td>\n",
       "      <td>med</td>\n",
       "      <td>med</td>\n",
       "      <td>unacc</td>\n",
       "    </tr>\n",
       "  </tbody>\n",
       "</table>\n",
       "</div>"
      ],
      "text/plain": [
       "       0      1  2  3      4     5      6\n",
       "0  vhigh  vhigh  2  2  small   low  unacc\n",
       "1  vhigh  vhigh  2  2  small   med  unacc\n",
       "2  vhigh  vhigh  2  2  small  high  unacc\n",
       "3  vhigh  vhigh  2  2    med   low  unacc\n",
       "4  vhigh  vhigh  2  2    med   med  unacc"
      ]
     },
     "execution_count": 357,
     "metadata": {},
     "output_type": "execute_result"
    }
   ],
   "source": [
    "df.head()"
   ]
  },
  {
   "cell_type": "code",
   "execution_count": 358,
   "metadata": {},
   "outputs": [],
   "source": [
    "df.columns = ['buying','maint','doors','persons','lug_boot','safety','label']"
   ]
  },
  {
   "cell_type": "code",
   "execution_count": 359,
   "metadata": {},
   "outputs": [],
   "source": [
    "X = df.iloc[:,:-1]"
   ]
  },
  {
   "cell_type": "code",
   "execution_count": 360,
   "metadata": {},
   "outputs": [],
   "source": [
    "y = df.iloc[:,-1]"
   ]
  },
  {
   "cell_type": "code",
   "execution_count": 361,
   "metadata": {},
   "outputs": [],
   "source": [
    "from sklearn.ensemble import RandomForestClassifier, ExtraTreesClassifier\n",
    "from sklearn.cross_validation import cross_val_score\n",
    "from sklearn.pipeline import make_pipeline\n",
    "from sklearn.preprocessing import OneHotEncoder\n",
    "from time import time"
   ]
  },
  {
   "cell_type": "code",
   "execution_count": 362,
   "metadata": {},
   "outputs": [],
   "source": [
    "X_transform = pd.get_dummies(X)"
   ]
  },
  {
   "cell_type": "code",
   "execution_count": 363,
   "metadata": {},
   "outputs": [],
   "source": [
    "times_small = {}\n",
    "scores_small = {}"
   ]
  },
  {
   "cell_type": "code",
   "execution_count": 364,
   "metadata": {},
   "outputs": [],
   "source": [
    "s = time()\n",
    "rf = RandomForestClassifier(random_state=777,min_samples_split=10,class_weight={'unacc':0.70023,'acc':0.22222,'good':0.03993,'vgood':0.03762})\n",
    "scores = cross_val_score(rf, X_transform, y)\n",
    "e = time()\n",
    "times_small.update({'rf':(e-s)})\n",
    "scores_small.update({'rf':scores.mean()})"
   ]
  },
  {
   "cell_type": "code",
   "execution_count": 365,
   "metadata": {},
   "outputs": [],
   "source": [
    "s = time()\n",
    "et = ExtraTreesClassifier(random_state=777,min_samples_split=10,class_weight={'unacc':0.70023,'acc':0.22222,'good':0.03993,'vgood':0.03762})\n",
    "scores = cross_val_score(et, X_transform, y)\n",
    "e = time()\n",
    "times_small.update({'ext':(e-s)})\n",
    "scores_small.update({'ext':scores.mean()})"
   ]
  },
  {
   "cell_type": "code",
   "execution_count": 417,
   "metadata": {},
   "outputs": [],
   "source": [
    "import numpy as np\n",
    "import pandas as pd\n",
    "import math\n",
    "\n",
    "\n",
    "# VFDT node class\n",
    "class vfdt_node:\n",
    "    # parameter nijk: statistics of feature i, value j, class k\n",
    "    def __init__(self, possible_split_features):\n",
    "        self.parent = None\n",
    "        self.children = None\n",
    "        self.split_feature = None\n",
    "        self.new_examples_seen = 0\n",
    "        self.total_examples_seen = 0\n",
    "        self.class_frequency = {}\n",
    "        self.nijk = {i:{} for i in possible_split_features}\n",
    "        self.possible_split_features = possible_split_features\n",
    "\n",
    "    def add_children(self, split_feature, children):\n",
    "        if (not children):\n",
    "            raise Exception('Parameter children is empty')\n",
    "        self.split_feature = split_feature\n",
    "        self.children = children\n",
    "        self.nijk.clear()  # reset stats\n",
    "\n",
    "    # recursively trace down the tree to distribute data examples to corresponding leaves\n",
    "    def sort_example(self, example):\n",
    "        value = 0\n",
    "        if (self.children != None):\n",
    "            index = self.possible_split_features.index(self.split_feature)\n",
    "            value = example[:-1][index]\n",
    "            return(self.children[value].sort_example(example))\n",
    "        else:\n",
    "            return(self)\n",
    "\n",
    "    def is_leaf(self):\n",
    "        return(self.children == None)\n",
    "\n",
    "    # for debugging purpose, not a essential function\n",
    "    def display_children(self):\n",
    "        if (self.is_leaf()):\n",
    "            print('It is leaf')\n",
    "        else:\n",
    "            print(list(self.children.keys()))\n",
    "            for key in self.children:\n",
    "                print(self.children[key].split_feature, end=' ')\n",
    "            print()\n",
    "\n",
    "    # the most frequent classification\n",
    "    def most_frequent(self):\n",
    "        if (self.class_frequency):\n",
    "            prediction = max(self.class_frequency, key=self.class_frequency.get)\n",
    "        else:\n",
    "            # if self.class_frequency dict is empty, go back to parent\n",
    "            class_frequency = self.parent.class_frequency\n",
    "            prediction = max(class_frequency, key=class_frequency.get)\n",
    "        return(prediction)\n",
    "\n",
    "    # upadate leaf stats in order to calculate infomation gain\n",
    "    def update_stats(self, example):\n",
    "        label = example[-1]\n",
    "        feats = self.possible_split_features\n",
    "        for i in feats:\n",
    "            if (i != None):\n",
    "                value = example[:-1][feats.index(i)]\n",
    "                if (value not in self.nijk[i]):\n",
    "\n",
    "                    d = {label : 1}\n",
    "                    self.nijk[i][value] = d\n",
    "                else:\n",
    "                    if (label not in self.nijk[i][value]):\n",
    "                        self.nijk[i][value][label] = 1\n",
    "                    else:\n",
    "                        self.nijk[i][value][label] += 1\n",
    "        self.total_examples_seen += 1\n",
    "        self.new_examples_seen += 1\n",
    "        if (label not in self.class_frequency):\n",
    "            self.class_frequency[label] = 1\n",
    "        else:\n",
    "            self.class_frequency[label] += 1\n",
    "\n",
    "    # use hoeffding tree model to test node split, return the split feature\n",
    "    def splittable(self, delta, nmin):\n",
    "        if(self.new_examples_seen < nmin):\n",
    "            return(None)\n",
    "        else:\n",
    "            self.new_examples_seen = 0  # reset\n",
    "\n",
    "        mx = 0\n",
    "        second_mx = 0\n",
    "        Xa = ''\n",
    "        for feature in self.possible_split_features:\n",
    "            if (feature != None):\n",
    "                value = self.info_gain(feature)\n",
    "                if (value > mx):\n",
    "                    mx = value\n",
    "                    Xa = feature\n",
    "                elif (value < mx and value > second_mx):\n",
    "                    second_mx = value\n",
    "        R = math.log10(len(self.class_frequency))\n",
    "        sigma = self.hoeffding_bound(R, delta, self.total_examples_seen)\n",
    "        if (mx - second_mx > sigma):\n",
    "            return(Xa)\n",
    "        #elif (sigma < tau and mx - second_mx < tau):\n",
    "            #return(Xa)\n",
    "        else:\n",
    "            return(None)\n",
    "\n",
    "    def hoeffding_bound(self, R, delta, n):\n",
    "        return(math.sqrt((R*R) * math.log(1/delta) / (2 * n)))\n",
    "\n",
    "    def entropy(self, class_frequencies):\n",
    "        total_examples = 0\n",
    "        for k in class_frequencies:\n",
    "            total_examples += class_frequencies[k]\n",
    "        if (total_examples == 0):\n",
    "            return(0)\n",
    "\n",
    "        entropy = 0\n",
    "        for k in class_frequencies:\n",
    "            if(class_frequencies[k] != 0):\n",
    "                entropy += -(class_frequencies[k] / float(total_examples)) * math.log2(class_frequencies[k] / float(total_examples))\n",
    "            else:\n",
    "                entropy += 0\n",
    "\n",
    "        return(entropy)\n",
    "\n",
    "    # nijk: attribute i, value j of class k\n",
    "    def info_gain(self, featureID):\n",
    "        njk = self.nijk[featureID]\n",
    "        class_frequency = self.class_frequency\n",
    "\n",
    "        total_examples = self.total_examples_seen\n",
    "        if (total_examples == 0):\n",
    "            return(0)\n",
    "        entropy_before = self.entropy(class_frequency)\n",
    "\n",
    "        # for each value j, class frequency must be counted\n",
    "        entropy_after = 0\n",
    "        for j in njk:\n",
    "            count = 0\n",
    "            for k in njk[j]:\n",
    "                count += njk[j][k]\n",
    "            entropy_after += (count/float(total_examples)) * (self.entropy(njk[j]))\n",
    "\n",
    "        ig = entropy_before - entropy_after\n",
    "        return ig\n",
    "\n",
    "    def get_visualization(self, indent):\n",
    "        if (self.is_leaf()):\n",
    "            return(indent + ' Leaf\\n')\n",
    "        else:\n",
    "            visualization = ''\n",
    "            for key in self.children:\n",
    "                visualization += indent + self.split_feature + ' = ' + str(key) + ':\\n'\n",
    "                visualization += self.children[key].get_visualization(indent + ' | ')\n",
    "            return(visualization)\n",
    "\n",
    "# very fast decision tree class, i.e. hoeffding tree\n",
    "class vfdt:\n",
    "    # parameters\n",
    "    # feature_values  # number of values of each feature # dict\n",
    "    # feature_values = {feature:[unique values list]}\n",
    "    # delta   # used for hoeffding bound\n",
    "    # tau  # used to deal with ties\n",
    "    # nmin  # used to limit the G computations\n",
    "\n",
    "    def __init__(self, feature_values, delta, nmin):\n",
    "        self.feature_values = feature_values\n",
    "        self.delta = delta\n",
    "        #self.tau = tau\n",
    "        self.nmin = nmin\n",
    "        features = list(feature_values.keys())\n",
    "        self.root = vfdt_node(features)\n",
    "        self.n_examples_processed = 0\n",
    "\n",
    "    # update the tree by adding training example\n",
    "    def update(self, example):\n",
    "        self.n_examples_processed += 1\n",
    "        node = self.root.sort_example(example)\n",
    "        node.update_stats(example)\n",
    "\n",
    "        split_feature = node.splittable(self.delta, self.nmin)\n",
    "        if (split_feature != None):\n",
    "            children =  self.node_split(node, split_feature)\n",
    "            node.add_children(split_feature, children)\n",
    "            for key in children:\n",
    "                children[key].parent = node\n",
    "\n",
    "    # split node, produce children\n",
    "    def node_split(self, node, split_feature):\n",
    "        features = node.possible_split_features\n",
    "        # replace deleted split feature with None\n",
    "        new_features = [None if f == split_feature else f for f in features]\n",
    "        children = {}\n",
    "        for v in self.feature_values[split_feature]:\n",
    "            children[v] = vfdt_node(new_features)\n",
    "        return(children)\n",
    "\n",
    "    # predict test example's classification\n",
    "    def predict(self, example):\n",
    "        leaf = self.root.sort_example(example)\n",
    "        prediction = leaf.most_frequent()\n",
    "        return(prediction)\n",
    "\n",
    "    # accuracy of a test set\n",
    "    def accuracy(self, examples):\n",
    "        correct = 0\n",
    "        for ex in examples:\n",
    "            if (self.predict(ex) == ex[-1]):\n",
    "                correct +=1\n",
    "        return(float(correct) / len(examples))\n",
    "\n",
    "\n",
    "def test_run_small():\n",
    "    start_time = time()\n",
    "\n",
    "    # bank.csv whole data size: 4521\n",
    "    # if more than 4521, it revert back to 4521\n",
    "    rows = 1728\n",
    "    # n_training = int(0.8 * rows)\n",
    "    # read_csv has parameter nrows=n that read the first n rows\n",
    "    df = pd.read_csv('./data/car.data', nrows=rows, header=0, sep=\",\")\n",
    "    title = list(df.columns.values)\n",
    "    features = title[:-1]\n",
    "    # need to pre-process data before training, discretize continous data\n",
    "    # unique values for each feature to use in VFDT\n",
    "    feature_values = {f:None for f in features}\n",
    "    bins = 10\n",
    "    for f in features:\n",
    "        if (df[f].dtype != np.float64 and df[f].dtype != np.int64):\n",
    "            feature_values[f] = df[f].unique()\n",
    "            temp = len(feature_values[f])\n",
    "            if (temp > bins):\n",
    "                bins = temp\n",
    "\n",
    "    # bins for discretization\n",
    "    # set bins to maximum unique values of discrete features\n",
    "    # could use different method, then set labels equals to bins\n",
    "    labels = [i for i in range(1, bins+1)]  # labels to replace bins\n",
    "\n",
    "    for f in features:\n",
    "        if (df[f].dtype == np.float64 or df[f].dtype == np.int64):\n",
    "            # check if feature value is continous\n",
    "            # pd.cut to discretize continous feature values in same size bins.\n",
    "            # pd.qcut put same number of data in each bin\n",
    "            # But it doesn't work here because not enough values in each bin.\n",
    "            df[f] = pd.cut(df[f], bins, labels=labels)\n",
    "            feature_values[f] = df[f].unique()\n",
    "\n",
    "    # convert df to data examples\n",
    "    train_len = 1728\n",
    "    array = df.head(train_len).values\n",
    "    set1 = []\n",
    "    set2 = []\n",
    "    set3 = []\n",
    "    possible_split_features = title[:-1]\n",
    "    count = 0\n",
    "    for i in range(len(array)):\n",
    "        count += 1\n",
    "        if (count <= train_len//4):\n",
    "            set1.append(array[i])\n",
    "        elif (count > train_len//4 and count <= train_len//2):\n",
    "            set2.append(array[i])\n",
    "        else:\n",
    "            set3.append(array[i])\n",
    "    # to simulate continous training, modify the tree for each training set\n",
    "    examples = [set1, set2, set3]\n",
    "\n",
    "    # test set is different from training set\n",
    "    n_test = 1728\n",
    "    test_set = df.tail(n_test).values\n",
    "    test = []\n",
    "    for i in range(len(test_set)):\n",
    "        test.append(test_set[i])\n",
    "\n",
    "    # heoffding bound parameter delta: with 1 - delta probability\n",
    "    # the true mean is at least r - gamma\n",
    "    # vfdt parameter nmin: test split if new sample size > nmin\n",
    "    delta = 0.05\n",
    "    nmin = 10\n",
    "    tree = vfdt(feature_values, delta, nmin)\n",
    "    print('Total data size: ', rows)\n",
    "    print('Test set (tail): ', len(test_set))\n",
    "    n = 0\n",
    "    results = []\n",
    "    for training_set in examples:\n",
    "        n += len(training_set)\n",
    "        for ex in training_set:\n",
    "            tree.update(ex)\n",
    "        print('Training set:', n, end=', ')\n",
    "        a = tree.accuracy(test)\n",
    "        print('ACCURACY: %.4f' % a)\n",
    "        results.append(a)\n",
    "        \n",
    "    scores_small.update({'vfdt': np.array(results)[-1]})\n",
    "\n",
    "    #print(tree.root.get_visualization('$'))\n",
    "\n",
    "    print(\"--- Running time: %.6f seconds ---\" % (time() - start_time))\n",
    "    times_small.update({'vfdt': time() - start_time})"
   ]
  },
  {
   "cell_type": "code",
   "execution_count": 418,
   "metadata": {},
   "outputs": [
    {
     "name": "stdout",
     "output_type": "stream",
     "text": [
      "Total data size:  1728\n",
      "Test set (tail):  1727\n",
      "Training set: 432, ACCURACY: 0.7383\n",
      "Training set: 864, ACCURACY: 0.7759\n",
      "Training set: 1727, ACCURACY: 0.8066\n",
      "--- Running time: 0.056880 seconds ---\n"
     ]
    }
   ],
   "source": [
    "test_run_small()"
   ]
  },
  {
   "cell_type": "code",
   "execution_count": 425,
   "metadata": {},
   "outputs": [
    {
     "data": {
      "text/plain": [
       "<Container object of 3 artists>"
      ]
     },
     "execution_count": 425,
     "metadata": {},
     "output_type": "execute_result"
    },
    {
     "data": {
      "image/png": "[encoded data removed]",
      "text/plain": [
       "<matplotlib.figure.Figure at 0x1116eb8d0>"
      ]
     },
     "metadata": {},
     "output_type": "display_data"
    }
   ],
   "source": [
    "plt.figure(figsize=(20,10))\n",
    "plt.title('Computational Time')\n",
    "plt.ylabel('Time in seconds')\n",
    "plt.xlabel('RF Variants')\n",
    "plt.bar(times_small.keys(), times_small.values())"
   ]
  },
  {
   "cell_type": "code",
   "execution_count": 420,
   "metadata": {},
   "outputs": [
    {
     "data": {
      "text/plain": [
       "<Container object of 3 artists>"
      ]
     },
     "execution_count": 420,
     "metadata": {},
     "output_type": "execute_result"
    },
    {
     "data": {
      "image/png": "[encoded data removed]",
      "text/plain": [
       "<matplotlib.figure.Figure at 0x110f70c50>"
      ]
     },
     "metadata": {},
     "output_type": "display_data"
    }
   ],
   "source": [
    "plt.bar(scores_small.keys(), scores_small.values())"
   ]
  },
  {
   "cell_type": "code",
   "execution_count": 377,
   "metadata": {},
   "outputs": [],
   "source": [
    "from sklearn.datasets import make_blobs, make_classification"
   ]
  },
  {
   "cell_type": "code",
   "execution_count": 433,
   "metadata": {},
   "outputs": [],
   "source": [
    "X, y = make_classification(n_samples=100000, n_features=10, n_redundant=2, n_informative=2, n_classes=2, n_clusters_per_class=2, shuffle=False)"
   ]
  },
  {
   "cell_type": "code",
   "execution_count": 387,
   "metadata": {},
   "outputs": [],
   "source": [
    "import numpy as np"
   ]
  },
  {
   "cell_type": "code",
   "execution_count": 380,
   "metadata": {},
   "outputs": [],
   "source": [
    "pd.DataFrame(np.column_stack([X,y])).to_csv('test.csv')"
   ]
  },
  {
   "cell_type": "code",
   "execution_count": 394,
   "metadata": {},
   "outputs": [],
   "source": [
    "times_large = {}\n",
    "scores_large = {}"
   ]
  },
  {
   "cell_type": "code",
   "execution_count": 434,
   "metadata": {},
   "outputs": [],
   "source": [
    "s = time()\n",
    "rf = RandomForestClassifier(random_state=777,min_samples_split=10)\n",
    "scores = cross_val_score(rf, X, y)\n",
    "e = time()\n",
    "times_large.update({'rf':(e-s)})\n",
    "scores_large.update({'rf':scores.mean()})"
   ]
  },
  {
   "cell_type": "code",
   "execution_count": 435,
   "metadata": {},
   "outputs": [
    {
     "data": {
      "image/png": "[encoded data removed]",
      "text/plain": [
       "<matplotlib.figure.Figure at 0x11e1a57b8>"
      ]
     },
     "metadata": {},
     "output_type": "display_data"
    }
   ],
   "source": [
    "rf.fit(X, y)\n",
    "importances = rf.feature_importances_\n",
    "std = np.std([tree.feature_importances_ for tree in rf.estimators_],\n",
    "             axis=0)\n",
    "indices = np.argsort(importances)[::-1]\n",
    "\n",
    "# Plot the feature importances of the forest\n",
    "plt.figure()\n",
    "plt.title(\"Feature importances\")\n",
    "plt.bar(range(X.shape[1]), importances[indices],\n",
    "       color=\"r\", yerr=std[indices], align=\"center\")\n",
    "plt.xticks(range(X.shape[1]), indices)\n",
    "plt.xlim([-1, X.shape[1]])\n",
    "plt.show()"
   ]
  },
  {
   "cell_type": "code",
   "execution_count": 436,
   "metadata": {},
   "outputs": [],
   "source": [
    "s = time()\n",
    "et = ExtraTreesClassifier(random_state=777,min_samples_split=10)\n",
    "scores = cross_val_score(et, X, y)\n",
    "e = time()\n",
    "times_large.update({'ext':(e-s)})\n",
    "scores_large.update({'ext':scores.mean()})"
   ]
  },
  {
   "cell_type": "code",
   "execution_count": 437,
   "metadata": {},
   "outputs": [
    {
     "data": {
      "image/png": "[encoded data removed]",
      "text/plain": [
       "<matplotlib.figure.Figure at 0x1191c95f8>"
      ]
     },
     "metadata": {},
     "output_type": "display_data"
    }
   ],
   "source": [
    "et.fit(X, y)\n",
    "importances = et.feature_importances_\n",
    "std = np.std([tree.feature_importances_ for tree in et.estimators_],\n",
    "             axis=0)\n",
    "indices = np.argsort(importances)[::-1]\n",
    "\n",
    "# Plot the feature importances of the forest\n",
    "plt.figure()\n",
    "plt.title(\"Feature importances\")\n",
    "plt.bar(range(X.shape[1]), importances[indices],\n",
    "       color=\"r\", yerr=std[indices], align=\"center\")\n",
    "plt.xticks(range(X.shape[1]), indices)\n",
    "plt.xlim([-1, X.shape[1]])\n",
    "plt.show()"
   ]
  },
  {
   "cell_type": "code",
   "execution_count": 384,
   "metadata": {},
   "outputs": [
    {
     "data": {
      "text/plain": [
       "<Container object of 2 artists>"
      ]
     },
     "execution_count": 384,
     "metadata": {},
     "output_type": "execute_result"
    },
    {
     "data": {
      "image/png": "[encoded data removed]",
      "text/plain": [
       "<matplotlib.figure.Figure at 0x118d6cfd0>"
      ]
     },
     "metadata": {},
     "output_type": "display_data"
    }
   ],
   "source": [
    "plt.bar(times_large.keys(), times_large.values())"
   ]
  },
  {
   "cell_type": "code",
   "execution_count": 385,
   "metadata": {},
   "outputs": [
    {
     "data": {
      "text/plain": [
       "<Container object of 2 artists>"
      ]
     },
     "execution_count": 385,
     "metadata": {},
     "output_type": "execute_result"
    },
    {
     "data": {
      "image/png": "[encoded data removed]",
      "text/plain": [
       "<matplotlib.figure.Figure at 0x1106ab438>"
      ]
     },
     "metadata": {},
     "output_type": "display_data"
    }
   ],
   "source": [
    "plt.bar(scores_large.keys(), scores_large.values())"
   ]
  },
  {
   "cell_type": "code",
   "execution_count": 159,
   "metadata": {},
   "outputs": [
    {
     "name": "stdout",
     "output_type": "stream",
     "text": [
      "1.403228998184204\n"
     ]
    }
   ],
   "source": [
    "s = time()\n",
    "onrf = ExtraTreesClassifier(n_estimators=1, random_state=777,min_samples_split=10, warm_start=True)\n",
    "indices = np.array([[i, i+100] for i in range(0,len(X)-101,100)])\n",
    "count = 0\n",
    "for i in indices:\n",
    "    current_acc = 0\n",
    "    count += 1 \n",
    "    X_batch = X[i[0]:i[1]]\n",
    "    y_batch = y[i[0]:i[1]]\n",
    "    if count == 1:\n",
    "        onrf.fit(X_batch, y_batch)\n",
    "    else:\n",
    "        count += 1\n",
    "        onrf.n_estimators += 1\n",
    "        onrf.fit(X_batch, y_batch)\n",
    "\n",
    "e = time()\n",
    "print(e-s)"
   ]
  },
  {
   "cell_type": "code",
   "execution_count": 180,
   "metadata": {},
   "outputs": [],
   "source": [
    "import sys\n",
    "sys.path.insert(0,'/Users/jannes/GU Modules/Statistical Learning for Big Data/code/Mini 6/StreamingXTREE/src')"
   ]
  },
  {
   "cell_type": "code",
   "execution_count": 409,
   "metadata": {},
   "outputs": [],
   "source": [
    "import numpy as np\n",
    "import pandas as pd\n",
    "import math\n",
    "\n",
    "\n",
    "# VFDT node class\n",
    "class vfdt_node:\n",
    "    # parameter nijk: statistics of feature i, value j, class k\n",
    "    def __init__(self, possible_split_features):\n",
    "        self.parent = None\n",
    "        self.children = None\n",
    "        self.split_feature = None\n",
    "        self.new_examples_seen = 0\n",
    "        self.total_examples_seen = 0\n",
    "        self.class_frequency = {}\n",
    "        self.nijk = {i:{} for i in possible_split_features}\n",
    "        self.possible_split_features = possible_split_features\n",
    "\n",
    "    def add_children(self, split_feature, children):\n",
    "        if (not children):\n",
    "            raise Exception('Parameter children is empty')\n",
    "        self.split_feature = split_feature\n",
    "        self.children = children\n",
    "        self.nijk.clear()  # reset stats\n",
    "\n",
    "    # recursively trace down the tree to distribute data examples to corresponding leaves\n",
    "    def sort_example(self, example):\n",
    "        value = 0\n",
    "        if (self.children != None):\n",
    "            index = self.possible_split_features.index(self.split_feature)\n",
    "            value = example[:-1][index]\n",
    "            return(self.children[value].sort_example(example))\n",
    "        else:\n",
    "            return(self)\n",
    "\n",
    "    def is_leaf(self):\n",
    "        return(self.children == None)\n",
    "\n",
    "    # for debugging purpose, not a essential function\n",
    "    def display_children(self):\n",
    "        if (self.is_leaf()):\n",
    "            print('It is leaf')\n",
    "        else:\n",
    "            print(list(self.children.keys()))\n",
    "            for key in self.children:\n",
    "                print(self.children[key].split_feature, end=' ')\n",
    "            print()\n",
    "\n",
    "    # the most frequent classification\n",
    "    def most_frequent(self):\n",
    "        if (self.class_frequency):\n",
    "            prediction = max(self.class_frequency, key=self.class_frequency.get)\n",
    "        else:\n",
    "            # if self.class_frequency dict is empty, go back to parent\n",
    "            class_frequency = self.parent.class_frequency\n",
    "            prediction = max(class_frequency, key=class_frequency.get)\n",
    "        return(prediction)\n",
    "\n",
    "    # upadate leaf stats in order to calculate infomation gain\n",
    "    def update_stats(self, example):\n",
    "        label = example[-1]\n",
    "        feats = self.possible_split_features\n",
    "        for i in feats:\n",
    "            if (i != None):\n",
    "                value = example[:-1][feats.index(i)]\n",
    "                if (value not in self.nijk[i]):\n",
    "\n",
    "                    d = {label : 1}\n",
    "                    self.nijk[i][value] = d\n",
    "                else:\n",
    "                    if (label not in self.nijk[i][value]):\n",
    "                        self.nijk[i][value][label] = 1\n",
    "                    else:\n",
    "                        self.nijk[i][value][label] += 1\n",
    "        self.total_examples_seen += 1\n",
    "        self.new_examples_seen += 1\n",
    "        if (label not in self.class_frequency):\n",
    "            self.class_frequency[label] = 1\n",
    "        else:\n",
    "            self.class_frequency[label] += 1\n",
    "\n",
    "    # use hoeffding tree model to test node split, return the split feature\n",
    "    def splittable(self, delta, nmin):\n",
    "        if(self.new_examples_seen < nmin):\n",
    "            return(None)\n",
    "        else:\n",
    "            self.new_examples_seen = 0  # reset\n",
    "\n",
    "        mx = 0\n",
    "        second_mx = 0\n",
    "        Xa = ''\n",
    "        for feature in self.possible_split_features:\n",
    "            if (feature != None):\n",
    "                value = self.info_gain(feature)\n",
    "                if (value > mx):\n",
    "                    mx = value\n",
    "                    Xa = feature\n",
    "                elif (value < mx and value > second_mx):\n",
    "                    second_mx = value\n",
    "        R = math.log10(len(self.class_frequency))\n",
    "        sigma = self.hoeffding_bound(R, delta, self.total_examples_seen)\n",
    "        if (mx - second_mx > sigma):\n",
    "            return(Xa)\n",
    "        #elif (sigma < tau and mx - second_mx < tau):\n",
    "            #return(Xa)\n",
    "        else:\n",
    "            return(None)\n",
    "\n",
    "    def hoeffding_bound(self, R, delta, n):\n",
    "        return(math.sqrt((R*R) * math.log(1/delta) / (2 * n)))\n",
    "\n",
    "    def entropy(self, class_frequencies):\n",
    "        total_examples = 0\n",
    "        for k in class_frequencies:\n",
    "            total_examples += class_frequencies[k]\n",
    "        if (total_examples == 0):\n",
    "            return(0)\n",
    "\n",
    "        entropy = 0\n",
    "        for k in class_frequencies:\n",
    "            if(class_frequencies[k] != 0):\n",
    "                entropy += -(class_frequencies[k] / float(total_examples)) * math.log2(class_frequencies[k] / float(total_examples))\n",
    "            else:\n",
    "                entropy += 0\n",
    "\n",
    "        return(entropy)\n",
    "\n",
    "    # nijk: attribute i, value j of class k\n",
    "    def info_gain(self, featureID):\n",
    "        njk = self.nijk[featureID]\n",
    "        class_frequency = self.class_frequency\n",
    "\n",
    "        total_examples = self.total_examples_seen\n",
    "        if (total_examples == 0):\n",
    "            return(0)\n",
    "        entropy_before = self.entropy(class_frequency)\n",
    "\n",
    "        # for each value j, class frequency must be counted\n",
    "        entropy_after = 0\n",
    "        for j in njk:\n",
    "            count = 0\n",
    "            for k in njk[j]:\n",
    "                count += njk[j][k]\n",
    "            entropy_after += (count/float(total_examples)) * (self.entropy(njk[j]))\n",
    "\n",
    "        ig = entropy_before - entropy_after\n",
    "        return ig\n",
    "\n",
    "    def get_visualization(self, indent):\n",
    "        if (self.is_leaf()):\n",
    "            return(indent + ' Leaf\\n')\n",
    "        else:\n",
    "            visualization = ''\n",
    "            for key in self.children:\n",
    "                visualization += indent + self.split_feature + ' = ' + str(key) + ':\\n'\n",
    "                visualization += self.children[key].get_visualization(indent + ' | ')\n",
    "            return(visualization)\n",
    "\n",
    "# very fast decision tree class, i.e. hoeffding tree\n",
    "class vfdt:\n",
    "    # parameters\n",
    "    # feature_values  # number of values of each feature # dict\n",
    "    # feature_values = {feature:[unique values list]}\n",
    "    # delta   # used for hoeffding bound\n",
    "    # tau  # used to deal with ties\n",
    "    # nmin  # used to limit the G computations\n",
    "\n",
    "    def __init__(self, feature_values, delta, nmin):\n",
    "        self.feature_values = feature_values\n",
    "        self.delta = delta\n",
    "        #self.tau = tau\n",
    "        self.nmin = nmin\n",
    "        features = list(feature_values.keys())\n",
    "        self.root = vfdt_node(features)\n",
    "        self.n_examples_processed = 0\n",
    "\n",
    "    # update the tree by adding training example\n",
    "    def update(self, example):\n",
    "        self.n_examples_processed += 1\n",
    "        node = self.root.sort_example(example)\n",
    "        node.update_stats(example)\n",
    "\n",
    "        split_feature = node.splittable(self.delta, self.nmin)\n",
    "        if (split_feature != None):\n",
    "            children =  self.node_split(node, split_feature)\n",
    "            node.add_children(split_feature, children)\n",
    "            for key in children:\n",
    "                children[key].parent = node\n",
    "\n",
    "    # split node, produce children\n",
    "    def node_split(self, node, split_feature):\n",
    "        features = node.possible_split_features\n",
    "        # replace deleted split feature with None\n",
    "        new_features = [None if f == split_feature else f for f in features]\n",
    "        children = {}\n",
    "        for v in self.feature_values[split_feature]:\n",
    "            children[v] = vfdt_node(new_features)\n",
    "        return(children)\n",
    "\n",
    "    # predict test example's classification\n",
    "    def predict(self, example):\n",
    "        leaf = self.root.sort_example(example)\n",
    "        prediction = leaf.most_frequent()\n",
    "        return(prediction)\n",
    "\n",
    "    # accuracy of a test set\n",
    "    def accuracy(self, examples):\n",
    "        correct = 0\n",
    "        for ex in examples:\n",
    "            if (self.predict(ex) == ex[-1]):\n",
    "                correct +=1\n",
    "        return(float(correct) / len(examples))\n",
    "\n",
    "\n",
    "def test_run():\n",
    "    start_time = time()\n",
    "\n",
    "    # bank.csv whole data size: 4521\n",
    "    # if more than 4521, it revert back to 4521\n",
    "    rows = 100000\n",
    "    # n_training = int(0.8 * rows)\n",
    "    # read_csv has parameter nrows=n that read the first n rows\n",
    "    df = pd.read_csv('test.csv', nrows=rows, header=0, sep=\",\")\n",
    "    title = list(df.columns.values)\n",
    "    features = title[:-1]\n",
    "    # need to pre-process data before training, discretize continous data\n",
    "    # unique values for each feature to use in VFDT\n",
    "    feature_values = {f:None for f in features}\n",
    "    bins = 10\n",
    "    for f in features:\n",
    "        if (df[f].dtype != np.float64 and df[f].dtype != np.int64):\n",
    "            feature_values[f] = df[f].unique()\n",
    "            temp = len(feature_values[f])\n",
    "            if (temp > bins):\n",
    "                bins = temp\n",
    "\n",
    "    # bins for discretization\n",
    "    # set bins to maximum unique values of discrete features\n",
    "    # could use different method, then set labels equals to bins\n",
    "    labels = [i for i in range(1, bins+1)]  # labels to replace bins\n",
    "\n",
    "    for f in features:\n",
    "        if (df[f].dtype == np.float64 or df[f].dtype == np.int64):\n",
    "            # check if feature value is continous\n",
    "            # pd.cut to discretize continous feature values in same size bins.\n",
    "            # pd.qcut put same number of data in each bin\n",
    "            # But it doesn't work here because not enough values in each bin.\n",
    "            df[f] = pd.cut(df[f], bins, labels=labels)\n",
    "            feature_values[f] = df[f].unique()\n",
    "\n",
    "    # convert df to data examples\n",
    "    train_len = 100000\n",
    "    array = df.head(train_len).values\n",
    "    set1 = []\n",
    "    set2 = []\n",
    "    set3 = []\n",
    "    possible_split_features = title[:-1]\n",
    "    count = 0\n",
    "    for i in range(len(array)):\n",
    "        count += 1\n",
    "        if (count <= train_len//4):\n",
    "            set1.append(array[i])\n",
    "        elif (count > train_len//4 and count <= train_len//2):\n",
    "            set2.append(array[i])\n",
    "        else:\n",
    "            set3.append(array[i])\n",
    "    # to simulate continous training, modify the tree for each training set\n",
    "    examples = [set1, set2, set3]\n",
    "\n",
    "    # test set is different from training set\n",
    "    n_test = 100000\n",
    "    test_set = df.tail(n_test).values\n",
    "    test = []\n",
    "    for i in range(len(test_set)):\n",
    "        test.append(test_set[i])\n",
    "\n",
    "    # heoffding bound parameter delta: with 1 - delta probability\n",
    "    # the true mean is at least r - gamma\n",
    "    # vfdt parameter nmin: test split if new sample size > nmin\n",
    "    delta = 0.05\n",
    "    nmin = 10\n",
    "    tree = vfdt(feature_values, delta, nmin)\n",
    "    print('Total data size: ', rows)\n",
    "    print('Test set (tail): ', len(test_set))\n",
    "    n = 0\n",
    "    results = []\n",
    "    for training_set in examples:\n",
    "        n += len(training_set)\n",
    "        for ex in training_set:\n",
    "            tree.update(ex)\n",
    "        print('Training set:', n, end=', ')\n",
    "        a = tree.accuracy(test)\n",
    "        print('ACCURACY: %.4f' % a)\n",
    "        results.append(a)\n",
    "        \n",
    "    scores_large.update({'vfdt': np.array(results)[-1]})\n",
    "\n",
    "    #print(tree.root.get_visualization('$'))\n",
    "\n",
    "    print(\"--- Running time: %.6f seconds ---\" % (time() - start_time))\n",
    "    times_large.update({'vfdt': time() - start_time})"
   ]
  },
  {
   "cell_type": "code",
   "execution_count": 410,
   "metadata": {},
   "outputs": [
    {
     "name": "stdout",
     "output_type": "stream",
     "text": [
      "Total data size:  100000\n",
      "Test set (tail):  100000\n",
      "Training set: 25000, ACCURACY: 0.9617\n",
      "Training set: 50000, ACCURACY: 0.9647\n",
      "Training set: 100000, ACCURACY: 0.9671\n",
      "--- Running time: 6.265743 seconds ---\n"
     ]
    }
   ],
   "source": [
    "test_run()"
   ]
  },
  {
   "cell_type": "code",
   "execution_count": 411,
   "metadata": {},
   "outputs": [
    {
     "data": {
      "text/plain": [
       "{'ext': 0.9118699973294425, 'rf': 0.9084900109270105, 'vfdt': 0.96707}"
      ]
     },
     "execution_count": 411,
     "metadata": {},
     "output_type": "execute_result"
    }
   ],
   "source": [
    "scores_large"
   ]
  },
  {
   "cell_type": "code",
   "execution_count": 412,
   "metadata": {},
   "outputs": [
    {
     "data": {
      "text/plain": [
       "{'ext': 1.8877499103546143, 'rf': 9.893658876419067, 'vfdt': 6.265780925750732}"
      ]
     },
     "execution_count": 412,
     "metadata": {},
     "output_type": "execute_result"
    }
   ],
   "source": [
    "times_large"
   ]
  },
  {
   "cell_type": "code",
   "execution_count": 431,
   "metadata": {},
   "outputs": [
    {
     "data": {
      "text/plain": [
       "<Container object of 3 artists>"
      ]
     },
     "execution_count": 431,
     "metadata": {},
     "output_type": "execute_result"
    },
    {
     "data": {
      "image/png": "[encoded data removed]",
      "text/plain": [
       "<matplotlib.figure.Figure at 0x118d4f6a0>"
      ]
     },
     "metadata": {},
     "output_type": "display_data"
    }
   ],
   "source": [
    "plt.figure(figsize=(20,10))\n",
    "plt.title('Performance')\n",
    "plt.ylabel('Accuracy')\n",
    "plt.xlabel('RF Variants')\n",
    "plt.ylim(0.7,1)\n",
    "plt.bar(scores_large.keys(), scores_large.values())"
   ]
  },
  {
   "cell_type": "code",
   "execution_count": null,
   "metadata": {},
   "outputs": [],
   "source": []
  }
 ],
 "metadata": {
  "kernelspec": {
   "display_name": "Python 3",
   "language": "python",
   "name": "python3"
  },
  "language_info": {
   "codemirror_mode": {
    "name": "ipython",
    "version": 3
   },
   "file_extension": ".py",
   "mimetype": "text/x-python",
   "name": "python",
   "nbconvert_exporter": "python",
   "pygments_lexer": "ipython3",
   "version": "3.6.3"
  }
 },
 "nbformat": 4,
 "nbformat_minor": 2
}
