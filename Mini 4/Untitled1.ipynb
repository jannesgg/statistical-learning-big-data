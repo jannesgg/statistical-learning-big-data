{
 "cells": [
  {
   "cell_type": "code",
   "execution_count": 3,
   "metadata": {},
   "outputs": [],
   "source": [
    "import io\n",
    "from google.cloud import speech\n",
    "from google.cloud.speech import enums\n",
    "from google.cloud.speech import types\n",
    "import os\n",
    "#import google.cloud.speech_v1p1beta1 as speech"
   ]
  },
  {
   "cell_type": "code",
   "execution_count": 4,
   "metadata": {},
   "outputs": [],
   "source": [
    "import os\n",
    "os.environ['GOOGLE_APPLICATION_CREDENTIALS'] = '/Users/jannes/Documents/GitHub/compliance-ai-source-code/My First Project-385c5f54f284.json'"
   ]
  },
  {
   "cell_type": "code",
   "execution_count": 6,
   "metadata": {},
   "outputs": [],
   "source": [
    "def transcribe_file_with_enhanced_model(path):\n",
    "    \"\"\"Transcribe the given audio file using an enhanced model.\"\"\"\n",
    "            \n",
    "    client = speech.SpeechClient()\n",
    "\n",
    "    with io.open(path, 'rb') as audio_file:\n",
    "        content = audio_file.read()\n",
    "\n",
    "    audio = speech.types.RecognitionAudio(content=content)\n",
    "    config = speech.types.RecognitionConfig(\n",
    "        encoding=speech.enums.RecognitionConfig.AudioEncoding.LINEAR16,\n",
    "        sample_rate_hertz=8000,\n",
    "        language_code='en-GB')\n",
    "        # Enhanced models are only available to projects that\n",
    "        # opt in for audio data collection.\n",
    "        #use_enhanced=True,\n",
    "        # A model must be specified to use enhanced model.\n",
    "       #model='phone_call')\n",
    "\n",
    "    response = client.recognize(config, audio)\n",
    "\n",
    "    for i, result in enumerate(response.results):\n",
    "        alternative = result.alternatives[0]\n",
    "        print('-' * 20)\n",
    "        print('First alternative of result {}'.format(i))\n",
    "        print('Transcript: {}'.format(alternative.transcript))"
   ]
  },
  {
   "cell_type": "code",
   "execution_count": 57,
   "metadata": {},
   "outputs": [
    {
     "name": "stdout",
     "output_type": "stream",
     "text": [
      "--------------------\n",
      "First alternative of result 0\n",
      "Transcript: hello and welcome to New Friends we would like to let you know that we do record our calls animal friends Verizon regulated by the financial conduct Authority we offer in information on the level of service this means we're unable to provide you with recommendations on on Saturdays we make sure your email to the other insurance companies directly alternate number of databases this allows us to check the information you give us and help prevent road to obtain a quote so I have a policy or have a pet press one to discuss the new or existing\n"
     ]
    }
   ],
   "source": [
    "transcribe_file_with_enhanced_model('/Users/jannes/Documents/GitHub/compliance-ai-source-code/short_audio.wav')"
   ]
  },
  {
   "cell_type": "code",
   "execution_count": 7,
   "metadata": {},
   "outputs": [
    {
     "name": "stdout",
     "output_type": "stream",
     "text": [
      "--------------------\n",
      "First alternative of result 0\n",
      "Transcript: hello and welcome to Animal friends we would like to let you know that we do record I'll call animal friends authorised and regulated by the financial conduct authority the offering information only level of service that means were unable to provide you with recommendation but not products or services we may share your details with insurance companies directly controlled 210 quote set up a policy or add a pet press one to discuss a new or existing\n"
     ]
    }
   ],
   "source": [
    "transcribe_file_with_enhanced_model('/Users/jannes/Documents/GitHub/compliance-ai-source-code/short_audio.wav')"
   ]
  },
  {
   "cell_type": "code",
   "execution_count": 13,
   "metadata": {},
   "outputs": [],
   "source": [
    "from imp import reload"
   ]
  },
  {
   "cell_type": "code",
   "execution_count": 15,
   "metadata": {},
   "outputs": [
    {
     "data": {
      "text/plain": [
       "<module 'speech_recognition' from '/anaconda3/lib/python3.6/site-packages/speech_recognition/__init__.py'>"
      ]
     },
     "execution_count": 15,
     "metadata": {},
     "output_type": "execute_result"
    }
   ],
   "source": [
    "reload(sr)"
   ]
  },
  {
   "cell_type": "code",
   "execution_count": 16,
   "metadata": {},
   "outputs": [],
   "source": [
    "import speech_recognition as sr"
   ]
  },
  {
   "cell_type": "code",
   "execution_count": 17,
   "metadata": {},
   "outputs": [],
   "source": [
    "r = sr.Recognizer()"
   ]
  },
  {
   "cell_type": "code",
   "execution_count": 18,
   "metadata": {},
   "outputs": [],
   "source": [
    "AUDIO_FILE = '/Users/jannes/Documents/GitHub/compliance-ai-source-code/short_audio.wav'"
   ]
  },
  {
   "cell_type": "code",
   "execution_count": 19,
   "metadata": {},
   "outputs": [],
   "source": [
    "with sr.AudioFile(AUDIO_FILE) as source:\n",
    "        audio = r.record(source)"
   ]
  },
  {
   "cell_type": "code",
   "execution_count": 21,
   "metadata": {},
   "outputs": [],
   "source": [
    "recog = r.recognize_google_cloud(audio,\n",
    "                language='en-GB',\n",
    "                show_all=True)"
   ]
  },
  {
   "cell_type": "code",
   "execution_count": 22,
   "metadata": {},
   "outputs": [
    {
     "data": {
      "text/plain": [
       "{'results': [{'alternatives': [{'confidence': 0.9296696,\n",
       "     'transcript': \"hello and welcome to Animal friends we would like to let you know that we do record I'll call animal friends authorised and regulated by the financial conduct authority we offering information only level of service that means were unable to provide you with recommendation but not products or services we may share your details with insurance company directly or through a number of different road to quote set up a policy or add a pet press one to discuss a new or existing\",\n",
       "     'words': [{'endTime': '0.800s', 'startTime': '0s', 'word': 'hello'},\n",
       "      {'endTime': '1.100s', 'startTime': '0.800s', 'word': 'and'},\n",
       "      {'endTime': '1.200s', 'startTime': '1.100s', 'word': 'welcome'},\n",
       "      {'endTime': '1.600s', 'startTime': '1.200s', 'word': 'to'},\n",
       "      {'endTime': '1.900s', 'startTime': '1.600s', 'word': 'Animal'},\n",
       "      {'endTime': '2.400s', 'startTime': '1.900s', 'word': 'friends'},\n",
       "      {'endTime': '3s', 'startTime': '2.400s', 'word': 'we'},\n",
       "      {'endTime': '3s', 'startTime': '3s', 'word': 'would'},\n",
       "      {'endTime': '3.300s', 'startTime': '3s', 'word': 'like'},\n",
       "      {'endTime': '3.300s', 'startTime': '3.300s', 'word': 'to'},\n",
       "      {'endTime': '3.500s', 'startTime': '3.300s', 'word': 'let'},\n",
       "      {'endTime': '3.600s', 'startTime': '3.500s', 'word': 'you'},\n",
       "      {'endTime': '3.700s', 'startTime': '3.600s', 'word': 'know'},\n",
       "      {'endTime': '4s', 'startTime': '3.700s', 'word': 'that'},\n",
       "      {'endTime': '4.100s', 'startTime': '4s', 'word': 'we'},\n",
       "      {'endTime': '4.200s', 'startTime': '4.100s', 'word': 'do'},\n",
       "      {'endTime': '4.700s', 'startTime': '4.200s', 'word': 'record'},\n",
       "      {'endTime': '4.800s', 'startTime': '4.700s', 'word': \"I'll\"},\n",
       "      {'endTime': '5s', 'startTime': '4.800s', 'word': 'call'},\n",
       "      {'endTime': '6.200s', 'startTime': '5s', 'word': 'animal'},\n",
       "      {'endTime': '6.400s', 'startTime': '6.200s', 'word': 'friends'},\n",
       "      {'endTime': '7s', 'startTime': '6.400s', 'word': 'authorised'},\n",
       "      {'endTime': '7.100s', 'startTime': '7s', 'word': 'and'},\n",
       "      {'endTime': '7.400s', 'startTime': '7.100s', 'word': 'regulated'},\n",
       "      {'endTime': '7.800s', 'startTime': '7.400s', 'word': 'by'},\n",
       "      {'endTime': '8s', 'startTime': '7.800s', 'word': 'the'},\n",
       "      {'endTime': '8s', 'startTime': '8s', 'word': 'financial'},\n",
       "      {'endTime': '8.600s', 'startTime': '8s', 'word': 'conduct'},\n",
       "      {'endTime': '9.400s', 'startTime': '8.600s', 'word': 'authority'},\n",
       "      {'endTime': '9.800s', 'startTime': '9.400s', 'word': 'we'},\n",
       "      {'endTime': '10.100s', 'startTime': '9.800s', 'word': 'offering'},\n",
       "      {'endTime': '10.500s', 'startTime': '10.100s', 'word': 'information'},\n",
       "      {'endTime': '11.100s', 'startTime': '10.500s', 'word': 'only'},\n",
       "      {'endTime': '11.400s', 'startTime': '11.100s', 'word': 'level'},\n",
       "      {'endTime': '11.500s', 'startTime': '11.400s', 'word': 'of'},\n",
       "      {'endTime': '11.900s', 'startTime': '11.500s', 'word': 'service'},\n",
       "      {'endTime': '12.600s', 'startTime': '11.900s', 'word': 'that'},\n",
       "      {'endTime': '12.900s', 'startTime': '12.600s', 'word': 'means'},\n",
       "      {'endTime': '13s', 'startTime': '12.900s', 'word': 'were'},\n",
       "      {'endTime': '13.200s', 'startTime': '13s', 'word': 'unable'},\n",
       "      {'endTime': '13.500s', 'startTime': '13.200s', 'word': 'to'},\n",
       "      {'endTime': '13.800s', 'startTime': '13.500s', 'word': 'provide'},\n",
       "      {'endTime': '14s', 'startTime': '13.800s', 'word': 'you'},\n",
       "      {'endTime': '14.100s', 'startTime': '14s', 'word': 'with'},\n",
       "      {'endTime': '14.800s', 'startTime': '14.100s', 'word': 'recommendation'},\n",
       "      {'endTime': '14.900s', 'startTime': '14.800s', 'word': 'but'},\n",
       "      {'endTime': '15.100s', 'startTime': '14.900s', 'word': 'not'},\n",
       "      {'endTime': '15.400s', 'startTime': '15.100s', 'word': 'products'},\n",
       "      {'endTime': '15.500s', 'startTime': '15.400s', 'word': 'or'},\n",
       "      {'endTime': '15.900s', 'startTime': '15.500s', 'word': 'services'},\n",
       "      {'endTime': '17s', 'startTime': '15.900s', 'word': 'we'},\n",
       "      {'endTime': '17.100s', 'startTime': '17s', 'word': 'may'},\n",
       "      {'endTime': '17.300s', 'startTime': '17.100s', 'word': 'share'},\n",
       "      {'endTime': '17.400s', 'startTime': '17.300s', 'word': 'your'},\n",
       "      {'endTime': '17.600s', 'startTime': '17.400s', 'word': 'details'},\n",
       "      {'endTime': '18s', 'startTime': '17.600s', 'word': 'with'},\n",
       "      {'endTime': '18.600s', 'startTime': '18s', 'word': 'insurance'},\n",
       "      {'endTime': '18.900s', 'startTime': '18.600s', 'word': 'company'},\n",
       "      {'endTime': '19.600s', 'startTime': '18.900s', 'word': 'directly'},\n",
       "      {'endTime': '19.700s', 'startTime': '19.600s', 'word': 'or'},\n",
       "      {'endTime': '19.800s', 'startTime': '19.700s', 'word': 'through'},\n",
       "      {'endTime': '20s', 'startTime': '19.800s', 'word': 'a'},\n",
       "      {'endTime': '20.200s', 'startTime': '20s', 'word': 'number'},\n",
       "      {'endTime': '20.300s', 'startTime': '20.200s', 'word': 'of'},\n",
       "      {'endTime': '21.600s', 'startTime': '20.300s', 'word': 'different'},\n",
       "      {'endTime': '24.400s', 'startTime': '21.600s', 'word': 'road'},\n",
       "      {'endTime': '25.400s', 'startTime': '24.400s', 'word': 'to'},\n",
       "      {'endTime': '26s', 'startTime': '25.400s', 'word': 'quote'},\n",
       "      {'endTime': '26.500s', 'startTime': '26s', 'word': 'set'},\n",
       "      {'endTime': '26.600s', 'startTime': '26.500s', 'word': 'up'},\n",
       "      {'endTime': '26.700s', 'startTime': '26.600s', 'word': 'a'},\n",
       "      {'endTime': '27.100s', 'startTime': '26.700s', 'word': 'policy'},\n",
       "      {'endTime': '27.300s', 'startTime': '27.100s', 'word': 'or'},\n",
       "      {'endTime': '27.600s', 'startTime': '27.300s', 'word': 'add'},\n",
       "      {'endTime': '27.700s', 'startTime': '27.600s', 'word': 'a'},\n",
       "      {'endTime': '28s', 'startTime': '27.700s', 'word': 'pet'},\n",
       "      {'endTime': '28.500s', 'startTime': '28s', 'word': 'press'},\n",
       "      {'endTime': '28.800s', 'startTime': '28.500s', 'word': 'one'},\n",
       "      {'endTime': '28.900s', 'startTime': '28.800s', 'word': 'to'},\n",
       "      {'endTime': '29.900s', 'startTime': '28.900s', 'word': 'discuss'},\n",
       "      {'endTime': '30s', 'startTime': '29.900s', 'word': 'a'},\n",
       "      {'endTime': '30.100s', 'startTime': '30s', 'word': 'new'},\n",
       "      {'endTime': '30.400s', 'startTime': '30.100s', 'word': 'or'},\n",
       "      {'endTime': '30.500s', 'startTime': '30.400s', 'word': 'existing'}]}]}]}"
      ]
     },
     "execution_count": 22,
     "metadata": {},
     "output_type": "execute_result"
    }
   ],
   "source": [
    "recog"
   ]
  },
  {
   "cell_type": "code",
   "execution_count": null,
   "metadata": {},
   "outputs": [],
   "source": []
  }
 ],
 "metadata": {
  "kernelspec": {
   "display_name": "Python 3",
   "language": "python",
   "name": "python3"
  },
  "language_info": {
   "codemirror_mode": {
    "name": "ipython",
    "version": 3
   },
   "file_extension": ".py",
   "mimetype": "text/x-python",
   "name": "python",
   "nbconvert_exporter": "python",
   "pygments_lexer": "ipython3",
   "version": "3.6.3"
  }
 },
 "nbformat": 4,
 "nbformat_minor": 2
}
